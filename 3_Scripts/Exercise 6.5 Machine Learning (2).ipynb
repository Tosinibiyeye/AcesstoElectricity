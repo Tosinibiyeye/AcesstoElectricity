{
 "cells": [
  {
   "cell_type": "markdown",
   "id": "f92e2d43-5e0f-4ada-9799-3f4defc4d3a2",
   "metadata": {},
   "source": [
    "This script contains the following:\n",
    "1. Importing libraries and data and renaming columns\n",
    "2. The elbow technique\n",
    "3. k-means clustering\n",
    "4. Interpretation of the clusters"
   ]
  },
  {
   "cell_type": "code",
   "execution_count": 1,
   "id": "1f7ffb3c-fa5a-40a3-85e8-ed834bc7e832",
   "metadata": {},
   "outputs": [],
   "source": [
    "import pandas as pd\n",
    "import numpy as np\n",
    "from os.path import join\n",
    "import seaborn as sns\n",
    "import matplotlib.pyplot as plt\n",
    "import matplotlib\n",
    "import os\n",
    "import folium\n",
    "import json\n",
    "import sklearn\n",
    "import pydot\n",
    "import seaborn as sns\n",
    "from sklearn import preprocessing\n",
    "from sklearn import cluster, tree, decomposition\n",
    "from sklearn.linear_model import LinearRegression\n",
    "from sklearn.model_selection import train_test_split \n",
    "from sklearn.metrics import mean_squared_error, r2_score\n",
    "from sklearn.cluster import KMeans # Here is where you import the k-means algorithm from scikit-learn.\n",
    "import pylab as pl # PyLab is a convenience module that bulk imports matplotlib.\n"
   ]
  },
  {
   "cell_type": "code",
   "execution_count": 2,
   "id": "ab3bc1bb-ac51-4ba3-a20c-4db213e5da65",
   "metadata": {},
   "outputs": [],
   "source": [
    "PATH = '../2_Data'"
   ]
  },
  {
   "cell_type": "code",
   "execution_count": 3,
   "id": "111a8ac3-7f43-47d6-8c6f-f5e704777150",
   "metadata": {},
   "outputs": [
    {
     "data": {
      "text/html": [
       "<div>\n",
       "<style scoped>\n",
       "    .dataframe tbody tr th:only-of-type {\n",
       "        vertical-align: middle;\n",
       "    }\n",
       "\n",
       "    .dataframe tbody tr th {\n",
       "        vertical-align: top;\n",
       "    }\n",
       "\n",
       "    .dataframe thead th {\n",
       "        text-align: right;\n",
       "    }\n",
       "</style>\n",
       "<table border=\"1\" class=\"dataframe\">\n",
       "  <thead>\n",
       "    <tr style=\"text-align: right;\">\n",
       "      <th></th>\n",
       "      <th>Unnamed: 0</th>\n",
       "      <th>Country</th>\n",
       "      <th>Year</th>\n",
       "      <th>Access to electricity (% of population)</th>\n",
       "      <th>Access to clean fuels for cooking</th>\n",
       "      <th>Renewable-electricity-generating-capacity-per-capita</th>\n",
       "      <th>Financial flows to developing countries (US $)</th>\n",
       "      <th>Renewable energy share in the total final energy consumption (%)</th>\n",
       "      <th>Electricity from fossil fuels (TWh)</th>\n",
       "      <th>Electricity from nuclear (TWh)</th>\n",
       "      <th>...</th>\n",
       "      <th>System of trade</th>\n",
       "      <th>Government Accounting concept</th>\n",
       "      <th>IMF data dissemination standard</th>\n",
       "      <th>Latest population census</th>\n",
       "      <th>Latest household survey</th>\n",
       "      <th>Source of most recent Income and expenditure data</th>\n",
       "      <th>Vital registration complete</th>\n",
       "      <th>Latest agricultural census</th>\n",
       "      <th>Latest industrial data</th>\n",
       "      <th>Latest trade data</th>\n",
       "    </tr>\n",
       "  </thead>\n",
       "  <tbody>\n",
       "    <tr>\n",
       "      <th>0</th>\n",
       "      <td>0</td>\n",
       "      <td>Afghanistan</td>\n",
       "      <td>2000</td>\n",
       "      <td>1.613591</td>\n",
       "      <td>6.2</td>\n",
       "      <td>9.22</td>\n",
       "      <td>20000.0</td>\n",
       "      <td>44.99</td>\n",
       "      <td>0.16</td>\n",
       "      <td>0.0</td>\n",
       "      <td>...</td>\n",
       "      <td>General trade system</td>\n",
       "      <td>Consolidated central government</td>\n",
       "      <td>Enhanced General Data Dissemination System (e-...</td>\n",
       "      <td>1979</td>\n",
       "      <td>Demographic and Health Survey, 2015</td>\n",
       "      <td>Integrated household survey (IHS), 2016/17</td>\n",
       "      <td>NaN</td>\n",
       "      <td>NaN</td>\n",
       "      <td>NaN</td>\n",
       "      <td>2018.0</td>\n",
       "    </tr>\n",
       "    <tr>\n",
       "      <th>1</th>\n",
       "      <td>1</td>\n",
       "      <td>Afghanistan</td>\n",
       "      <td>2001</td>\n",
       "      <td>4.074574</td>\n",
       "      <td>7.2</td>\n",
       "      <td>8.86</td>\n",
       "      <td>130000.0</td>\n",
       "      <td>45.60</td>\n",
       "      <td>0.09</td>\n",
       "      <td>0.0</td>\n",
       "      <td>...</td>\n",
       "      <td>General trade system</td>\n",
       "      <td>Consolidated central government</td>\n",
       "      <td>Enhanced General Data Dissemination System (e-...</td>\n",
       "      <td>1979</td>\n",
       "      <td>Demographic and Health Survey, 2015</td>\n",
       "      <td>Integrated household survey (IHS), 2016/17</td>\n",
       "      <td>NaN</td>\n",
       "      <td>NaN</td>\n",
       "      <td>NaN</td>\n",
       "      <td>2018.0</td>\n",
       "    </tr>\n",
       "    <tr>\n",
       "      <th>2</th>\n",
       "      <td>2</td>\n",
       "      <td>Afghanistan</td>\n",
       "      <td>2002</td>\n",
       "      <td>9.409158</td>\n",
       "      <td>8.2</td>\n",
       "      <td>8.47</td>\n",
       "      <td>3950000.0</td>\n",
       "      <td>37.83</td>\n",
       "      <td>0.13</td>\n",
       "      <td>0.0</td>\n",
       "      <td>...</td>\n",
       "      <td>General trade system</td>\n",
       "      <td>Consolidated central government</td>\n",
       "      <td>Enhanced General Data Dissemination System (e-...</td>\n",
       "      <td>1979</td>\n",
       "      <td>Demographic and Health Survey, 2015</td>\n",
       "      <td>Integrated household survey (IHS), 2016/17</td>\n",
       "      <td>NaN</td>\n",
       "      <td>NaN</td>\n",
       "      <td>NaN</td>\n",
       "      <td>2018.0</td>\n",
       "    </tr>\n",
       "    <tr>\n",
       "      <th>3</th>\n",
       "      <td>3</td>\n",
       "      <td>Afghanistan</td>\n",
       "      <td>2003</td>\n",
       "      <td>14.738506</td>\n",
       "      <td>9.5</td>\n",
       "      <td>8.09</td>\n",
       "      <td>25970000.0</td>\n",
       "      <td>36.66</td>\n",
       "      <td>0.31</td>\n",
       "      <td>0.0</td>\n",
       "      <td>...</td>\n",
       "      <td>General trade system</td>\n",
       "      <td>Consolidated central government</td>\n",
       "      <td>Enhanced General Data Dissemination System (e-...</td>\n",
       "      <td>1979</td>\n",
       "      <td>Demographic and Health Survey, 2015</td>\n",
       "      <td>Integrated household survey (IHS), 2016/17</td>\n",
       "      <td>NaN</td>\n",
       "      <td>NaN</td>\n",
       "      <td>NaN</td>\n",
       "      <td>2018.0</td>\n",
       "    </tr>\n",
       "    <tr>\n",
       "      <th>4</th>\n",
       "      <td>4</td>\n",
       "      <td>Afghanistan</td>\n",
       "      <td>2004</td>\n",
       "      <td>20.064968</td>\n",
       "      <td>10.9</td>\n",
       "      <td>7.75</td>\n",
       "      <td>NaN</td>\n",
       "      <td>44.24</td>\n",
       "      <td>0.33</td>\n",
       "      <td>0.0</td>\n",
       "      <td>...</td>\n",
       "      <td>General trade system</td>\n",
       "      <td>Consolidated central government</td>\n",
       "      <td>Enhanced General Data Dissemination System (e-...</td>\n",
       "      <td>1979</td>\n",
       "      <td>Demographic and Health Survey, 2015</td>\n",
       "      <td>Integrated household survey (IHS), 2016/17</td>\n",
       "      <td>NaN</td>\n",
       "      <td>NaN</td>\n",
       "      <td>NaN</td>\n",
       "      <td>2018.0</td>\n",
       "    </tr>\n",
       "  </tbody>\n",
       "</table>\n",
       "<p>5 rows × 49 columns</p>\n",
       "</div>"
      ],
      "text/plain": [
       "   Unnamed: 0      Country  Year  Access to electricity (% of population)  \\\n",
       "0           0  Afghanistan  2000                                 1.613591   \n",
       "1           1  Afghanistan  2001                                 4.074574   \n",
       "2           2  Afghanistan  2002                                 9.409158   \n",
       "3           3  Afghanistan  2003                                14.738506   \n",
       "4           4  Afghanistan  2004                                20.064968   \n",
       "\n",
       "   Access to clean fuels for cooking  \\\n",
       "0                                6.2   \n",
       "1                                7.2   \n",
       "2                                8.2   \n",
       "3                                9.5   \n",
       "4                               10.9   \n",
       "\n",
       "   Renewable-electricity-generating-capacity-per-capita  \\\n",
       "0                                               9.22      \n",
       "1                                               8.86      \n",
       "2                                               8.47      \n",
       "3                                               8.09      \n",
       "4                                               7.75      \n",
       "\n",
       "   Financial flows to developing countries (US $)  \\\n",
       "0                                         20000.0   \n",
       "1                                        130000.0   \n",
       "2                                       3950000.0   \n",
       "3                                      25970000.0   \n",
       "4                                             NaN   \n",
       "\n",
       "   Renewable energy share in the total final energy consumption (%)  \\\n",
       "0                                              44.99                  \n",
       "1                                              45.60                  \n",
       "2                                              37.83                  \n",
       "3                                              36.66                  \n",
       "4                                              44.24                  \n",
       "\n",
       "   Electricity from fossil fuels (TWh)  Electricity from nuclear (TWh)  ...  \\\n",
       "0                                 0.16                             0.0  ...   \n",
       "1                                 0.09                             0.0  ...   \n",
       "2                                 0.13                             0.0  ...   \n",
       "3                                 0.31                             0.0  ...   \n",
       "4                                 0.33                             0.0  ...   \n",
       "\n",
       "        System of trade    Government Accounting concept  \\\n",
       "0  General trade system  Consolidated central government   \n",
       "1  General trade system  Consolidated central government   \n",
       "2  General trade system  Consolidated central government   \n",
       "3  General trade system  Consolidated central government   \n",
       "4  General trade system  Consolidated central government   \n",
       "\n",
       "                     IMF data dissemination standard  \\\n",
       "0  Enhanced General Data Dissemination System (e-...   \n",
       "1  Enhanced General Data Dissemination System (e-...   \n",
       "2  Enhanced General Data Dissemination System (e-...   \n",
       "3  Enhanced General Data Dissemination System (e-...   \n",
       "4  Enhanced General Data Dissemination System (e-...   \n",
       "\n",
       "   Latest population census              Latest household survey  \\\n",
       "0                      1979  Demographic and Health Survey, 2015   \n",
       "1                      1979  Demographic and Health Survey, 2015   \n",
       "2                      1979  Demographic and Health Survey, 2015   \n",
       "3                      1979  Demographic and Health Survey, 2015   \n",
       "4                      1979  Demographic and Health Survey, 2015   \n",
       "\n",
       "   Source of most recent Income and expenditure data  \\\n",
       "0         Integrated household survey (IHS), 2016/17   \n",
       "1         Integrated household survey (IHS), 2016/17   \n",
       "2         Integrated household survey (IHS), 2016/17   \n",
       "3         Integrated household survey (IHS), 2016/17   \n",
       "4         Integrated household survey (IHS), 2016/17   \n",
       "\n",
       "   Vital registration complete  Latest agricultural census  \\\n",
       "0                          NaN                         NaN   \n",
       "1                          NaN                         NaN   \n",
       "2                          NaN                         NaN   \n",
       "3                          NaN                         NaN   \n",
       "4                          NaN                         NaN   \n",
       "\n",
       "  Latest industrial data  Latest trade data  \n",
       "0                    NaN             2018.0  \n",
       "1                    NaN             2018.0  \n",
       "2                    NaN             2018.0  \n",
       "3                    NaN             2018.0  \n",
       "4                    NaN             2018.0  \n",
       "\n",
       "[5 rows x 49 columns]"
      ]
     },
     "execution_count": 3,
     "metadata": {},
     "output_type": "execute_result"
    }
   ],
   "source": [
    "# Import data\n",
    "df_combined_global_details = pd.read_csv(join(PATH,'2_2_Prepared_Data','df_combined_global_details.csv'))\n",
    "df_combined_global_details.head()"
   ]
  },
  {
   "cell_type": "code",
   "execution_count": 4,
   "id": "6a8c2540-3166-48a3-8c63-f26a2520a1a0",
   "metadata": {},
   "outputs": [
    {
     "data": {
      "text/plain": [
       "78.93370216207748"
      ]
     },
     "execution_count": 4,
     "metadata": {},
     "output_type": "execute_result"
    }
   ],
   "source": [
    "df_combined_global_details['Access to electricity (% of population)'].mean() # Check the mean"
   ]
  },
  {
   "cell_type": "code",
   "execution_count": 5,
   "id": "e3c1886f-7b9b-44d2-803b-285f940a1fac",
   "metadata": {},
   "outputs": [
    {
     "data": {
      "text/plain": [
       "63.25528735632183"
      ]
     },
     "execution_count": 5,
     "metadata": {},
     "output_type": "execute_result"
    }
   ],
   "source": [
    "df_combined_global_details['Access to clean fuels for cooking'].mean() # Check the mean"
   ]
  },
  {
   "cell_type": "markdown",
   "id": "dba49e5c-5958-4a50-982f-cbdba87401dd",
   "metadata": {},
   "source": [
    "#### imputing value for the missing value in the \"Access to electricity (% of population)\" and \"Access to clean fuels for cooking"
   ]
  },
  {
   "cell_type": "code",
   "execution_count": 6,
   "id": "a4019a2c-7ba7-4b04-8370-22e4554d9260",
   "metadata": {},
   "outputs": [],
   "source": [
    "df_combined_global_details= df_combined_global_details.fillna(df_combined_global_details['Access to electricity (% of population)'].mean())"
   ]
  },
  {
   "cell_type": "code",
   "execution_count": 7,
   "id": "3ed0cd49-1ac7-48e4-a1d7-48fccaf73e30",
   "metadata": {},
   "outputs": [],
   "source": [
    "df_combined_global_details= df_combined_global_details.fillna(df_combined_global_details['Access to clean fuels for cooking'].mean())"
   ]
  },
  {
   "cell_type": "code",
   "execution_count": 8,
   "id": "b32df2f9-09d1-4992-ac21-2ff6843f66ca",
   "metadata": {},
   "outputs": [
    {
     "data": {
      "text/html": [
       "<div>\n",
       "<style scoped>\n",
       "    .dataframe tbody tr th:only-of-type {\n",
       "        vertical-align: middle;\n",
       "    }\n",
       "\n",
       "    .dataframe tbody tr th {\n",
       "        vertical-align: top;\n",
       "    }\n",
       "\n",
       "    .dataframe thead th {\n",
       "        text-align: right;\n",
       "    }\n",
       "</style>\n",
       "<table border=\"1\" class=\"dataframe\">\n",
       "  <thead>\n",
       "    <tr style=\"text-align: right;\">\n",
       "      <th></th>\n",
       "      <th>Unnamed: 0</th>\n",
       "      <th>Country</th>\n",
       "      <th>Year</th>\n",
       "      <th>Access to electricity (% of population)</th>\n",
       "      <th>Access to clean fuels for cooking</th>\n",
       "      <th>Renewable-electricity-generating-capacity-per-capita</th>\n",
       "      <th>Financial flows to developing countries (US $)</th>\n",
       "      <th>Renewable energy share in the total final energy consumption (%)</th>\n",
       "      <th>Electricity from fossil fuels (TWh)</th>\n",
       "      <th>Electricity from nuclear (TWh)</th>\n",
       "      <th>...</th>\n",
       "      <th>System of trade</th>\n",
       "      <th>Government Accounting concept</th>\n",
       "      <th>IMF data dissemination standard</th>\n",
       "      <th>Latest population census</th>\n",
       "      <th>Latest household survey</th>\n",
       "      <th>Source of most recent Income and expenditure data</th>\n",
       "      <th>Vital registration complete</th>\n",
       "      <th>Latest agricultural census</th>\n",
       "      <th>Latest industrial data</th>\n",
       "      <th>Latest trade data</th>\n",
       "    </tr>\n",
       "  </thead>\n",
       "  <tbody>\n",
       "    <tr>\n",
       "      <th>0</th>\n",
       "      <td>0</td>\n",
       "      <td>Afghanistan</td>\n",
       "      <td>2000</td>\n",
       "      <td>1.613591</td>\n",
       "      <td>6.2</td>\n",
       "      <td>9.22</td>\n",
       "      <td>2.000000e+04</td>\n",
       "      <td>44.99</td>\n",
       "      <td>0.16</td>\n",
       "      <td>0.0</td>\n",
       "      <td>...</td>\n",
       "      <td>General trade system</td>\n",
       "      <td>Consolidated central government</td>\n",
       "      <td>Enhanced General Data Dissemination System (e-...</td>\n",
       "      <td>1979</td>\n",
       "      <td>Demographic and Health Survey, 2015</td>\n",
       "      <td>Integrated household survey (IHS), 2016/17</td>\n",
       "      <td>78.933702</td>\n",
       "      <td>78.933702</td>\n",
       "      <td>78.933702</td>\n",
       "      <td>2018.0</td>\n",
       "    </tr>\n",
       "    <tr>\n",
       "      <th>1</th>\n",
       "      <td>1</td>\n",
       "      <td>Afghanistan</td>\n",
       "      <td>2001</td>\n",
       "      <td>4.074574</td>\n",
       "      <td>7.2</td>\n",
       "      <td>8.86</td>\n",
       "      <td>1.300000e+05</td>\n",
       "      <td>45.60</td>\n",
       "      <td>0.09</td>\n",
       "      <td>0.0</td>\n",
       "      <td>...</td>\n",
       "      <td>General trade system</td>\n",
       "      <td>Consolidated central government</td>\n",
       "      <td>Enhanced General Data Dissemination System (e-...</td>\n",
       "      <td>1979</td>\n",
       "      <td>Demographic and Health Survey, 2015</td>\n",
       "      <td>Integrated household survey (IHS), 2016/17</td>\n",
       "      <td>78.933702</td>\n",
       "      <td>78.933702</td>\n",
       "      <td>78.933702</td>\n",
       "      <td>2018.0</td>\n",
       "    </tr>\n",
       "    <tr>\n",
       "      <th>2</th>\n",
       "      <td>2</td>\n",
       "      <td>Afghanistan</td>\n",
       "      <td>2002</td>\n",
       "      <td>9.409158</td>\n",
       "      <td>8.2</td>\n",
       "      <td>8.47</td>\n",
       "      <td>3.950000e+06</td>\n",
       "      <td>37.83</td>\n",
       "      <td>0.13</td>\n",
       "      <td>0.0</td>\n",
       "      <td>...</td>\n",
       "      <td>General trade system</td>\n",
       "      <td>Consolidated central government</td>\n",
       "      <td>Enhanced General Data Dissemination System (e-...</td>\n",
       "      <td>1979</td>\n",
       "      <td>Demographic and Health Survey, 2015</td>\n",
       "      <td>Integrated household survey (IHS), 2016/17</td>\n",
       "      <td>78.933702</td>\n",
       "      <td>78.933702</td>\n",
       "      <td>78.933702</td>\n",
       "      <td>2018.0</td>\n",
       "    </tr>\n",
       "    <tr>\n",
       "      <th>3</th>\n",
       "      <td>3</td>\n",
       "      <td>Afghanistan</td>\n",
       "      <td>2003</td>\n",
       "      <td>14.738506</td>\n",
       "      <td>9.5</td>\n",
       "      <td>8.09</td>\n",
       "      <td>2.597000e+07</td>\n",
       "      <td>36.66</td>\n",
       "      <td>0.31</td>\n",
       "      <td>0.0</td>\n",
       "      <td>...</td>\n",
       "      <td>General trade system</td>\n",
       "      <td>Consolidated central government</td>\n",
       "      <td>Enhanced General Data Dissemination System (e-...</td>\n",
       "      <td>1979</td>\n",
       "      <td>Demographic and Health Survey, 2015</td>\n",
       "      <td>Integrated household survey (IHS), 2016/17</td>\n",
       "      <td>78.933702</td>\n",
       "      <td>78.933702</td>\n",
       "      <td>78.933702</td>\n",
       "      <td>2018.0</td>\n",
       "    </tr>\n",
       "    <tr>\n",
       "      <th>4</th>\n",
       "      <td>4</td>\n",
       "      <td>Afghanistan</td>\n",
       "      <td>2004</td>\n",
       "      <td>20.064968</td>\n",
       "      <td>10.9</td>\n",
       "      <td>7.75</td>\n",
       "      <td>7.893370e+01</td>\n",
       "      <td>44.24</td>\n",
       "      <td>0.33</td>\n",
       "      <td>0.0</td>\n",
       "      <td>...</td>\n",
       "      <td>General trade system</td>\n",
       "      <td>Consolidated central government</td>\n",
       "      <td>Enhanced General Data Dissemination System (e-...</td>\n",
       "      <td>1979</td>\n",
       "      <td>Demographic and Health Survey, 2015</td>\n",
       "      <td>Integrated household survey (IHS), 2016/17</td>\n",
       "      <td>78.933702</td>\n",
       "      <td>78.933702</td>\n",
       "      <td>78.933702</td>\n",
       "      <td>2018.0</td>\n",
       "    </tr>\n",
       "  </tbody>\n",
       "</table>\n",
       "<p>5 rows × 49 columns</p>\n",
       "</div>"
      ],
      "text/plain": [
       "   Unnamed: 0      Country  Year  Access to electricity (% of population)  \\\n",
       "0           0  Afghanistan  2000                                 1.613591   \n",
       "1           1  Afghanistan  2001                                 4.074574   \n",
       "2           2  Afghanistan  2002                                 9.409158   \n",
       "3           3  Afghanistan  2003                                14.738506   \n",
       "4           4  Afghanistan  2004                                20.064968   \n",
       "\n",
       "   Access to clean fuels for cooking  \\\n",
       "0                                6.2   \n",
       "1                                7.2   \n",
       "2                                8.2   \n",
       "3                                9.5   \n",
       "4                               10.9   \n",
       "\n",
       "   Renewable-electricity-generating-capacity-per-capita  \\\n",
       "0                                               9.22      \n",
       "1                                               8.86      \n",
       "2                                               8.47      \n",
       "3                                               8.09      \n",
       "4                                               7.75      \n",
       "\n",
       "   Financial flows to developing countries (US $)  \\\n",
       "0                                    2.000000e+04   \n",
       "1                                    1.300000e+05   \n",
       "2                                    3.950000e+06   \n",
       "3                                    2.597000e+07   \n",
       "4                                    7.893370e+01   \n",
       "\n",
       "   Renewable energy share in the total final energy consumption (%)  \\\n",
       "0                                              44.99                  \n",
       "1                                              45.60                  \n",
       "2                                              37.83                  \n",
       "3                                              36.66                  \n",
       "4                                              44.24                  \n",
       "\n",
       "   Electricity from fossil fuels (TWh)  Electricity from nuclear (TWh)  ...  \\\n",
       "0                                 0.16                             0.0  ...   \n",
       "1                                 0.09                             0.0  ...   \n",
       "2                                 0.13                             0.0  ...   \n",
       "3                                 0.31                             0.0  ...   \n",
       "4                                 0.33                             0.0  ...   \n",
       "\n",
       "        System of trade    Government Accounting concept  \\\n",
       "0  General trade system  Consolidated central government   \n",
       "1  General trade system  Consolidated central government   \n",
       "2  General trade system  Consolidated central government   \n",
       "3  General trade system  Consolidated central government   \n",
       "4  General trade system  Consolidated central government   \n",
       "\n",
       "                     IMF data dissemination standard  \\\n",
       "0  Enhanced General Data Dissemination System (e-...   \n",
       "1  Enhanced General Data Dissemination System (e-...   \n",
       "2  Enhanced General Data Dissemination System (e-...   \n",
       "3  Enhanced General Data Dissemination System (e-...   \n",
       "4  Enhanced General Data Dissemination System (e-...   \n",
       "\n",
       "   Latest population census              Latest household survey  \\\n",
       "0                      1979  Demographic and Health Survey, 2015   \n",
       "1                      1979  Demographic and Health Survey, 2015   \n",
       "2                      1979  Demographic and Health Survey, 2015   \n",
       "3                      1979  Demographic and Health Survey, 2015   \n",
       "4                      1979  Demographic and Health Survey, 2015   \n",
       "\n",
       "   Source of most recent Income and expenditure data  \\\n",
       "0         Integrated household survey (IHS), 2016/17   \n",
       "1         Integrated household survey (IHS), 2016/17   \n",
       "2         Integrated household survey (IHS), 2016/17   \n",
       "3         Integrated household survey (IHS), 2016/17   \n",
       "4         Integrated household survey (IHS), 2016/17   \n",
       "\n",
       "   Vital registration complete  Latest agricultural census  \\\n",
       "0                    78.933702                   78.933702   \n",
       "1                    78.933702                   78.933702   \n",
       "2                    78.933702                   78.933702   \n",
       "3                    78.933702                   78.933702   \n",
       "4                    78.933702                   78.933702   \n",
       "\n",
       "  Latest industrial data  Latest trade data  \n",
       "0              78.933702             2018.0  \n",
       "1              78.933702             2018.0  \n",
       "2              78.933702             2018.0  \n",
       "3              78.933702             2018.0  \n",
       "4              78.933702             2018.0  \n",
       "\n",
       "[5 rows x 49 columns]"
      ]
     },
     "execution_count": 8,
     "metadata": {},
     "output_type": "execute_result"
    }
   ],
   "source": [
    "df_combined_global_details.head()"
   ]
  },
  {
   "cell_type": "code",
   "execution_count": 9,
   "id": "306e8fad-57fa-42ae-81cb-2a9bbaa75777",
   "metadata": {},
   "outputs": [],
   "source": [
    "#Select numeric columns\n",
    "numeric_cols = df_combined_global_details.select_dtypes(include='number').columns"
   ]
  },
  {
   "cell_type": "code",
   "execution_count": 10,
   "id": "02354f49-af15-49d3-9f37-46d227d05d8b",
   "metadata": {},
   "outputs": [],
   "source": [
    "#detect columns with commas\n",
    "cols_with_commas=[]\n",
    "for col in numeric_cols:\n",
    "    if df_combined_global_details[col].astype(str).str.contains(',').any():\n",
    "        cols_with_commas.append(col)"
   ]
  },
  {
   "cell_type": "code",
   "execution_count": 11,
   "id": "3cb6b8c5-cdc5-4b46-9495-c6add9117367",
   "metadata": {},
   "outputs": [
    {
     "name": "stdout",
     "output_type": "stream",
     "text": [
      "[]\n"
     ]
    }
   ],
   "source": [
    "print(cols_with_commas)"
   ]
  },
  {
   "cell_type": "code",
   "execution_count": 12,
   "id": "49afc3a9-b719-4b89-81b7-1bd6cf014f9c",
   "metadata": {},
   "outputs": [],
   "source": [
    "df_cluster = df_combined_global_details[numeric_cols]"
   ]
  },
  {
   "cell_type": "code",
   "execution_count": 13,
   "id": "81d72a07-6cc8-488f-873b-8447dfb17b99",
   "metadata": {},
   "outputs": [],
   "source": [
    "num_cl = range(1, 10) # Defines the range of potential clusters in the data.\n",
    "kmeans = [KMeans(n_clusters=i) for i in num_cl] # Defines k-means clusters in the range assigned above."
   ]
  },
  {
   "cell_type": "code",
   "execution_count": 14,
   "id": "892e5c31-1744-4088-865c-ff9d1090d215",
   "metadata": {},
   "outputs": [
    {
     "data": {
      "text/plain": [
       "[-1.4652892754510689e+20,\n",
       " -5.915489959472714e+19,\n",
       " -3.1151171468960674e+19,\n",
       " -1.4828467633753102e+19,\n",
       " -9.097232197251676e+18,\n",
       " -6.521968367316332e+18,\n",
       " -4.720729636405709e+18,\n",
       " -3.3328741192360136e+18,\n",
       " -3.3020591209916554e+18]"
      ]
     },
     "execution_count": 14,
     "metadata": {},
     "output_type": "execute_result"
    }
   ],
   "source": [
    "score = [kmeans[i].fit(df_cluster).score(df_cluster) for i in range(len(kmeans))] # Rate of variation for the given cluster option\n",
    "score"
   ]
  },
  {
   "cell_type": "markdown",
   "id": "8ab5dc09-c11c-4f08-a50d-7b161b76ce49",
   "metadata": {},
   "source": [
    "# Clustering\n",
    "Let's choose some features using our business domain knowledge and explore these. After selecting features, let's create two new dataframes with our new data called:\n",
    "\n",
    "df_clustering\n",
    "df_clustering_groups grouped by user_power access type\n",
    "# Note: you're free to add and remove"
   ]
  },
  {
   "cell_type": "code",
   "execution_count": 15,
   "id": "95617a9e-b988-4338-a01a-53155b5aa7d6",
   "metadata": {},
   "outputs": [],
   "source": [
    "#selected features\n",
    "features_to_explore = ['Year', 'Access to electricity (% of population)', 'Access to clean fuels for cooking', 'Renewable-electricity-generating-capacity-per-capita', 'Renewable energy share in the total final energy consumption (%)', ]\n",
    "\n",
    "\n",
    "\n",
    "df_clustering = df_combined_global_details[numeric_cols][features_to_explore + ['Access to electricity (% of population)']]\n",
    "df_clustering_groups = df_clustering.groupby('Year').mean().reset_index().dropna(axis=0)"
   ]
  },
  {
   "cell_type": "code",
   "execution_count": 16,
   "id": "bd8b7fc8-e098-4063-b29e-420c0e4f9a04",
   "metadata": {},
   "outputs": [
    {
     "data": {
      "text/html": [
       "<div>\n",
       "<style scoped>\n",
       "    .dataframe tbody tr th:only-of-type {\n",
       "        vertical-align: middle;\n",
       "    }\n",
       "\n",
       "    .dataframe tbody tr th {\n",
       "        vertical-align: top;\n",
       "    }\n",
       "\n",
       "    .dataframe thead th {\n",
       "        text-align: right;\n",
       "    }\n",
       "</style>\n",
       "<table border=\"1\" class=\"dataframe\">\n",
       "  <thead>\n",
       "    <tr style=\"text-align: right;\">\n",
       "      <th></th>\n",
       "      <th>Year</th>\n",
       "      <th>Access to electricity (% of population)</th>\n",
       "      <th>Access to clean fuels for cooking</th>\n",
       "      <th>Renewable-electricity-generating-capacity-per-capita</th>\n",
       "      <th>Renewable energy share in the total final energy consumption (%)</th>\n",
       "      <th>Access to electricity (% of population)</th>\n",
       "    </tr>\n",
       "  </thead>\n",
       "  <tbody>\n",
       "    <tr>\n",
       "      <th>0</th>\n",
       "      <td>2000</td>\n",
       "      <td>1.613591</td>\n",
       "      <td>6.2</td>\n",
       "      <td>9.22</td>\n",
       "      <td>44.99</td>\n",
       "      <td>1.613591</td>\n",
       "    </tr>\n",
       "    <tr>\n",
       "      <th>1</th>\n",
       "      <td>2001</td>\n",
       "      <td>4.074574</td>\n",
       "      <td>7.2</td>\n",
       "      <td>8.86</td>\n",
       "      <td>45.60</td>\n",
       "      <td>4.074574</td>\n",
       "    </tr>\n",
       "    <tr>\n",
       "      <th>2</th>\n",
       "      <td>2002</td>\n",
       "      <td>9.409158</td>\n",
       "      <td>8.2</td>\n",
       "      <td>8.47</td>\n",
       "      <td>37.83</td>\n",
       "      <td>9.409158</td>\n",
       "    </tr>\n",
       "    <tr>\n",
       "      <th>3</th>\n",
       "      <td>2003</td>\n",
       "      <td>14.738506</td>\n",
       "      <td>9.5</td>\n",
       "      <td>8.09</td>\n",
       "      <td>36.66</td>\n",
       "      <td>14.738506</td>\n",
       "    </tr>\n",
       "    <tr>\n",
       "      <th>4</th>\n",
       "      <td>2004</td>\n",
       "      <td>20.064968</td>\n",
       "      <td>10.9</td>\n",
       "      <td>7.75</td>\n",
       "      <td>44.24</td>\n",
       "      <td>20.064968</td>\n",
       "    </tr>\n",
       "  </tbody>\n",
       "</table>\n",
       "</div>"
      ],
      "text/plain": [
       "   Year  Access to electricity (% of population)  \\\n",
       "0  2000                                 1.613591   \n",
       "1  2001                                 4.074574   \n",
       "2  2002                                 9.409158   \n",
       "3  2003                                14.738506   \n",
       "4  2004                                20.064968   \n",
       "\n",
       "   Access to clean fuels for cooking  \\\n",
       "0                                6.2   \n",
       "1                                7.2   \n",
       "2                                8.2   \n",
       "3                                9.5   \n",
       "4                               10.9   \n",
       "\n",
       "   Renewable-electricity-generating-capacity-per-capita  \\\n",
       "0                                               9.22      \n",
       "1                                               8.86      \n",
       "2                                               8.47      \n",
       "3                                               8.09      \n",
       "4                                               7.75      \n",
       "\n",
       "   Renewable energy share in the total final energy consumption (%)  \\\n",
       "0                                              44.99                  \n",
       "1                                              45.60                  \n",
       "2                                              37.83                  \n",
       "3                                              36.66                  \n",
       "4                                              44.24                  \n",
       "\n",
       "   Access to electricity (% of population)  \n",
       "0                                 1.613591  \n",
       "1                                 4.074574  \n",
       "2                                 9.409158  \n",
       "3                                14.738506  \n",
       "4                                20.064968  "
      ]
     },
     "execution_count": 16,
     "metadata": {},
     "output_type": "execute_result"
    }
   ],
   "source": [
    "df_clustering.head() "
   ]
  },
  {
   "cell_type": "code",
   "execution_count": 17,
   "id": "3b36d809-8f44-4dc9-9c71-1bc5dbc71de2",
   "metadata": {},
   "outputs": [
    {
     "data": {
      "text/plain": [
       "(3649, 6)"
      ]
     },
     "execution_count": 17,
     "metadata": {},
     "output_type": "execute_result"
    }
   ],
   "source": [
    "df_clustering.shape"
   ]
  },
  {
   "cell_type": "code",
   "execution_count": 18,
   "id": "1da8e1f7-49b4-4804-b5cc-da9fe2c0d7e9",
   "metadata": {},
   "outputs": [
    {
     "data": {
      "text/html": [
       "<div>\n",
       "<style scoped>\n",
       "    .dataframe tbody tr th:only-of-type {\n",
       "        vertical-align: middle;\n",
       "    }\n",
       "\n",
       "    .dataframe tbody tr th {\n",
       "        vertical-align: top;\n",
       "    }\n",
       "\n",
       "    .dataframe thead th {\n",
       "        text-align: right;\n",
       "    }\n",
       "</style>\n",
       "<table border=\"1\" class=\"dataframe\">\n",
       "  <thead>\n",
       "    <tr style=\"text-align: right;\">\n",
       "      <th></th>\n",
       "      <th>Year</th>\n",
       "      <th>Access to electricity (% of population)</th>\n",
       "      <th>Access to clean fuels for cooking</th>\n",
       "      <th>Renewable-electricity-generating-capacity-per-capita</th>\n",
       "      <th>Renewable energy share in the total final energy consumption (%)</th>\n",
       "      <th>Access to electricity (% of population)</th>\n",
       "    </tr>\n",
       "  </thead>\n",
       "  <tbody>\n",
       "    <tr>\n",
       "      <th>0</th>\n",
       "      <td>2000</td>\n",
       "      <td>73.222085</td>\n",
       "      <td>59.148863</td>\n",
       "      <td>86.173521</td>\n",
       "      <td>34.745975</td>\n",
       "      <td>73.222085</td>\n",
       "    </tr>\n",
       "    <tr>\n",
       "      <th>1</th>\n",
       "      <td>2001</td>\n",
       "      <td>73.707979</td>\n",
       "      <td>59.573079</td>\n",
       "      <td>82.431158</td>\n",
       "      <td>34.351533</td>\n",
       "      <td>73.707979</td>\n",
       "    </tr>\n",
       "    <tr>\n",
       "      <th>2</th>\n",
       "      <td>2002</td>\n",
       "      <td>74.021165</td>\n",
       "      <td>60.110870</td>\n",
       "      <td>83.168019</td>\n",
       "      <td>34.260777</td>\n",
       "      <td>74.021165</td>\n",
       "    </tr>\n",
       "    <tr>\n",
       "      <th>3</th>\n",
       "      <td>2003</td>\n",
       "      <td>74.590201</td>\n",
       "      <td>60.670754</td>\n",
       "      <td>83.473774</td>\n",
       "      <td>33.896824</td>\n",
       "      <td>74.590201</td>\n",
       "    </tr>\n",
       "    <tr>\n",
       "      <th>4</th>\n",
       "      <td>2004</td>\n",
       "      <td>75.169976</td>\n",
       "      <td>61.197498</td>\n",
       "      <td>83.857553</td>\n",
       "      <td>33.722580</td>\n",
       "      <td>75.169976</td>\n",
       "    </tr>\n",
       "  </tbody>\n",
       "</table>\n",
       "</div>"
      ],
      "text/plain": [
       "   Year  Access to electricity (% of population)  \\\n",
       "0  2000                                73.222085   \n",
       "1  2001                                73.707979   \n",
       "2  2002                                74.021165   \n",
       "3  2003                                74.590201   \n",
       "4  2004                                75.169976   \n",
       "\n",
       "   Access to clean fuels for cooking  \\\n",
       "0                          59.148863   \n",
       "1                          59.573079   \n",
       "2                          60.110870   \n",
       "3                          60.670754   \n",
       "4                          61.197498   \n",
       "\n",
       "   Renewable-electricity-generating-capacity-per-capita  \\\n",
       "0                                          86.173521      \n",
       "1                                          82.431158      \n",
       "2                                          83.168019      \n",
       "3                                          83.473774      \n",
       "4                                          83.857553      \n",
       "\n",
       "   Renewable energy share in the total final energy consumption (%)  \\\n",
       "0                                          34.745975                  \n",
       "1                                          34.351533                  \n",
       "2                                          34.260777                  \n",
       "3                                          33.896824                  \n",
       "4                                          33.722580                  \n",
       "\n",
       "   Access to electricity (% of population)  \n",
       "0                                73.222085  \n",
       "1                                73.707979  \n",
       "2                                74.021165  \n",
       "3                                74.590201  \n",
       "4                                75.169976  "
      ]
     },
     "execution_count": 18,
     "metadata": {},
     "output_type": "execute_result"
    }
   ],
   "source": [
    "df_clustering_groups.head()"
   ]
  },
  {
   "cell_type": "code",
   "execution_count": 19,
   "id": "c0cb761f-9d1a-4fbf-85d9-5aa06c13b6df",
   "metadata": {},
   "outputs": [
    {
     "data": {
      "text/plain": [
       "(21, 6)"
      ]
     },
     "execution_count": 19,
     "metadata": {},
     "output_type": "execute_result"
    }
   ],
   "source": [
    "df_clustering_groups.shape"
   ]
  },
  {
   "cell_type": "markdown",
   "id": "b959438b-2339-4d3f-9527-58ec84e6e3f4",
   "metadata": {},
   "source": [
    "# Step 2: Standardizing our data¶\n",
    "Let's keep copy df_clustering_groups dataset, in order to keep the original one for post-analysis."
   ]
  },
  {
   "cell_type": "code",
   "execution_count": 20,
   "id": "c7fc9ae0-87c3-4f34-a875-7b46204cb050",
   "metadata": {},
   "outputs": [
    {
     "data": {
      "text/html": [
       "<div>\n",
       "<style scoped>\n",
       "    .dataframe tbody tr th:only-of-type {\n",
       "        vertical-align: middle;\n",
       "    }\n",
       "\n",
       "    .dataframe tbody tr th {\n",
       "        vertical-align: top;\n",
       "    }\n",
       "\n",
       "    .dataframe thead th {\n",
       "        text-align: right;\n",
       "    }\n",
       "</style>\n",
       "<table border=\"1\" class=\"dataframe\">\n",
       "  <thead>\n",
       "    <tr style=\"text-align: right;\">\n",
       "      <th></th>\n",
       "      <th>Year</th>\n",
       "      <th>Access to electricity (% of population)</th>\n",
       "      <th>Access to clean fuels for cooking</th>\n",
       "      <th>Renewable-electricity-generating-capacity-per-capita</th>\n",
       "      <th>Renewable energy share in the total final energy consumption (%)</th>\n",
       "      <th>Access to electricity (% of population)</th>\n",
       "    </tr>\n",
       "  </thead>\n",
       "  <tbody>\n",
       "    <tr>\n",
       "      <th>0</th>\n",
       "      <td>-1.651446</td>\n",
       "      <td>-1.505436</td>\n",
       "      <td>-1.763746</td>\n",
       "      <td>-0.917951</td>\n",
       "      <td>-0.034860</td>\n",
       "      <td>-1.505436</td>\n",
       "    </tr>\n",
       "    <tr>\n",
       "      <th>1</th>\n",
       "      <td>-1.486301</td>\n",
       "      <td>-1.376835</td>\n",
       "      <td>-1.608359</td>\n",
       "      <td>-1.107566</td>\n",
       "      <td>-0.074909</td>\n",
       "      <td>-1.376835</td>\n",
       "    </tr>\n",
       "    <tr>\n",
       "      <th>2</th>\n",
       "      <td>-1.321157</td>\n",
       "      <td>-1.293945</td>\n",
       "      <td>-1.411371</td>\n",
       "      <td>-1.070231</td>\n",
       "      <td>-0.084124</td>\n",
       "      <td>-1.293945</td>\n",
       "    </tr>\n",
       "    <tr>\n",
       "      <th>3</th>\n",
       "      <td>-1.156012</td>\n",
       "      <td>-1.143339</td>\n",
       "      <td>-1.206290</td>\n",
       "      <td>-1.054739</td>\n",
       "      <td>-0.121078</td>\n",
       "      <td>-1.143339</td>\n",
       "    </tr>\n",
       "    <tr>\n",
       "      <th>4</th>\n",
       "      <td>-0.990867</td>\n",
       "      <td>-0.989892</td>\n",
       "      <td>-1.013348</td>\n",
       "      <td>-1.035294</td>\n",
       "      <td>-0.138769</td>\n",
       "      <td>-0.989892</td>\n",
       "    </tr>\n",
       "  </tbody>\n",
       "</table>\n",
       "</div>"
      ],
      "text/plain": [
       "       Year  Access to electricity (% of population)  \\\n",
       "0 -1.651446                                -1.505436   \n",
       "1 -1.486301                                -1.376835   \n",
       "2 -1.321157                                -1.293945   \n",
       "3 -1.156012                                -1.143339   \n",
       "4 -0.990867                                -0.989892   \n",
       "\n",
       "   Access to clean fuels for cooking  \\\n",
       "0                          -1.763746   \n",
       "1                          -1.608359   \n",
       "2                          -1.411371   \n",
       "3                          -1.206290   \n",
       "4                          -1.013348   \n",
       "\n",
       "   Renewable-electricity-generating-capacity-per-capita  \\\n",
       "0                                          -0.917951      \n",
       "1                                          -1.107566      \n",
       "2                                          -1.070231      \n",
       "3                                          -1.054739      \n",
       "4                                          -1.035294      \n",
       "\n",
       "   Renewable energy share in the total final energy consumption (%)  \\\n",
       "0                                          -0.034860                  \n",
       "1                                          -0.074909                  \n",
       "2                                          -0.084124                  \n",
       "3                                          -0.121078                  \n",
       "4                                          -0.138769                  \n",
       "\n",
       "   Access to electricity (% of population)  \n",
       "0                                -1.505436  \n",
       "1                                -1.376835  \n",
       "2                                -1.293945  \n",
       "3                                -1.143339  \n",
       "4                                -0.989892  "
      ]
     },
     "execution_count": 20,
     "metadata": {},
     "output_type": "execute_result"
    }
   ],
   "source": [
    "df_clustering_std = df_clustering_groups.copy()\n",
    "\n",
    "df_clustering_std[features_to_explore] = preprocessing.scale(df_clustering_std[features_to_explore])\n",
    "\n",
    "df_clustering_std.head()"
   ]
  },
  {
   "cell_type": "markdown",
   "id": "b2ab1caf-2f65-496a-b675-3385e2e3777d",
   "metadata": {},
   "source": [
    "# Step 3: Implement clustering via K-means\n",
    "Let's start K-means clustering and initially select K=3! Creating cluster column for the same dataset"
   ]
  },
  {
   "cell_type": "code",
   "execution_count": 21,
   "id": "f11d6acd-4d53-47a0-9903-744d028c9aa2",
   "metadata": {},
   "outputs": [
    {
     "name": "stderr",
     "output_type": "stream",
     "text": [
      "C:\\Users\\TOSIN\\anaconda3\\Lib\\site-packages\\sklearn\\cluster\\_kmeans.py:1446: UserWarning: KMeans is known to have a memory leak on Windows with MKL, when there are less chunks than available threads. You can avoid it by setting the environment variable OMP_NUM_THREADS=1.\n",
      "  warnings.warn(\n"
     ]
    }
   ],
   "source": [
    "km = cluster.KMeans(n_clusters=4, max_iter=300, random_state=123)\n",
    "df_clustering_std['cluster'] = km.fit_predict(df_clustering_std[features_to_explore])"
   ]
  },
  {
   "cell_type": "code",
   "execution_count": 23,
   "id": "6c586154-a0da-452d-8c89-64a110d0bf01",
   "metadata": {},
   "outputs": [
    {
     "data": {
      "image/png": "[encoded data removed]",
      "text/plain": [
       "<Figure size 640x480 with 1 Axes>"
      ]
     },
     "metadata": {},
     "output_type": "display_data"
    }
   ],
   "source": [
    "# Principal Component Analysis for Visualization\n",
    "pca = decomposition.PCA(n_components=2, whiten=True)\n",
    "#pca.fit(city_groups[features_to_explore])\n",
    "df_clustering_std['x'] = pca.fit_transform(df_clustering_std[features_to_explore])[:, 0]\n",
    "df_clustering_std['y'] = pca.fit_transform(df_clustering_std[features_to_explore])[:, 1]\n",
    "plt.scatter(df_clustering_std['x'], df_clustering_std['y'], c=df_clustering_std['cluster'])\n",
    "plt.show()"
   ]
  },
  {
   "cell_type": "code",
   "execution_count": 24,
   "id": "b5b858ce-5bda-40ad-abda-746555e921cf",
   "metadata": {},
   "outputs": [
    {
     "name": "stderr",
     "output_type": "stream",
     "text": [
      "C:\\Users\\TOSIN\\anaconda3\\Lib\\site-packages\\sklearn\\cluster\\_kmeans.py:1446: UserWarning: KMeans is known to have a memory leak on Windows with MKL, when there are less chunks than available threads. You can avoid it by setting the environment variable OMP_NUM_THREADS=1.\n",
      "  warnings.warn(\n"
     ]
    },
    {
     "data": {
      "image/png": "[encoded data removed]",
      "text/plain": [
       "<Figure size 640x480 with 1 Axes>"
      ]
     },
     "metadata": {},
     "output_type": "display_data"
    }
   ],
   "source": [
    "#Let's try it now with 2 clusters\n",
    "\n",
    "km = cluster.KMeans(n_clusters=2, max_iter=300, random_state=None)\n",
    "df_clustering_std['cluster'] = km.fit_predict(df_clustering_std[features_to_explore])\n",
    "\n",
    "# Principal Component Analysis for Visualization\n",
    "pca = decomposition.PCA(n_components=2, whiten=True)\n",
    "df_clustering_std['x'] = pca.fit_transform(df_clustering_std[features_to_explore])[:, 0]\n",
    "df_clustering_std['y'] = pca.fit_transform(df_clustering_std[features_to_explore])[:, 1]\n",
    "plt.scatter(df_clustering_std['x'], df_clustering_std['y'], c=df_clustering_std['cluster'])\n",
    "plt.show()"
   ]
  },
  {
   "cell_type": "code",
   "execution_count": null,
   "id": "861d3837-4f3c-4a39-bacc-108035cd7678",
   "metadata": {},
   "outputs": [],
   "source": []
  },
  {
   "cell_type": "code",
   "execution_count": 27,
   "id": "d1dcd3f6-396d-452c-8f62-f19629f271b8",
   "metadata": {},
   "outputs": [
    {
     "data": {
      "text/html": [
       "<div>\n",
       "<style scoped>\n",
       "    .dataframe tbody tr th:only-of-type {\n",
       "        vertical-align: middle;\n",
       "    }\n",
       "\n",
       "    .dataframe tbody tr th {\n",
       "        vertical-align: top;\n",
       "    }\n",
       "\n",
       "    .dataframe thead th {\n",
       "        text-align: right;\n",
       "    }\n",
       "</style>\n",
       "<table border=\"1\" class=\"dataframe\">\n",
       "  <thead>\n",
       "    <tr style=\"text-align: right;\">\n",
       "      <th></th>\n",
       "      <th>Year</th>\n",
       "      <th>Access to electricity (% of population)</th>\n",
       "      <th>Access to clean fuels for cooking</th>\n",
       "      <th>Renewable-electricity-generating-capacity-per-capita</th>\n",
       "      <th>Renewable energy share in the total final energy consumption (%)</th>\n",
       "      <th>Access to electricity (% of population)</th>\n",
       "    </tr>\n",
       "  </thead>\n",
       "  <tbody>\n",
       "    <tr>\n",
       "      <th>0</th>\n",
       "      <td>-1.651446</td>\n",
       "      <td>-1.505436</td>\n",
       "      <td>-1.763746</td>\n",
       "      <td>-0.917951</td>\n",
       "      <td>-0.034860</td>\n",
       "      <td>-1.505436</td>\n",
       "    </tr>\n",
       "    <tr>\n",
       "      <th>1</th>\n",
       "      <td>-1.486301</td>\n",
       "      <td>-1.376835</td>\n",
       "      <td>-1.608359</td>\n",
       "      <td>-1.107566</td>\n",
       "      <td>-0.074909</td>\n",
       "      <td>-1.376835</td>\n",
       "    </tr>\n",
       "    <tr>\n",
       "      <th>2</th>\n",
       "      <td>-1.321157</td>\n",
       "      <td>-1.293945</td>\n",
       "      <td>-1.411371</td>\n",
       "      <td>-1.070231</td>\n",
       "      <td>-0.084124</td>\n",
       "      <td>-1.293945</td>\n",
       "    </tr>\n",
       "    <tr>\n",
       "      <th>3</th>\n",
       "      <td>-1.156012</td>\n",
       "      <td>-1.143339</td>\n",
       "      <td>-1.206290</td>\n",
       "      <td>-1.054739</td>\n",
       "      <td>-0.121078</td>\n",
       "      <td>-1.143339</td>\n",
       "    </tr>\n",
       "    <tr>\n",
       "      <th>4</th>\n",
       "      <td>-0.990867</td>\n",
       "      <td>-0.989892</td>\n",
       "      <td>-1.013348</td>\n",
       "      <td>-1.035294</td>\n",
       "      <td>-0.138769</td>\n",
       "      <td>-0.989892</td>\n",
       "    </tr>\n",
       "  </tbody>\n",
       "</table>\n",
       "</div>"
      ],
      "text/plain": [
       "       Year  Access to electricity (% of population)  \\\n",
       "0 -1.651446                                -1.505436   \n",
       "1 -1.486301                                -1.376835   \n",
       "2 -1.321157                                -1.293945   \n",
       "3 -1.156012                                -1.143339   \n",
       "4 -0.990867                                -0.989892   \n",
       "\n",
       "   Access to clean fuels for cooking  \\\n",
       "0                          -1.763746   \n",
       "1                          -1.608359   \n",
       "2                          -1.411371   \n",
       "3                          -1.206290   \n",
       "4                          -1.013348   \n",
       "\n",
       "   Renewable-electricity-generating-capacity-per-capita  \\\n",
       "0                                          -0.917951      \n",
       "1                                          -1.107566      \n",
       "2                                          -1.070231      \n",
       "3                                          -1.054739      \n",
       "4                                          -1.035294      \n",
       "\n",
       "   Renewable energy share in the total final energy consumption (%)  \\\n",
       "0                                          -0.034860                  \n",
       "1                                          -0.074909                  \n",
       "2                                          -0.084124                  \n",
       "3                                          -0.121078                  \n",
       "4                                          -0.138769                  \n",
       "\n",
       "   Access to electricity (% of population)  \n",
       "0                                -1.505436  \n",
       "1                                -1.376835  \n",
       "2                                -1.293945  \n",
       "3                                -1.143339  \n",
       "4                                -0.989892  "
      ]
     },
     "execution_count": 27,
     "metadata": {},
     "output_type": "execute_result"
    }
   ],
   "source": [
    "df_clustering_std = df_clustering_groups.copy()\n",
    "\n",
    "df_clustering_std[features_to_explore] = preprocessing.scale(df_clustering_std[features_to_explore])\n",
    "\n",
    "df_clustering_std.head()"
   ]
  },
  {
   "cell_type": "code",
   "execution_count": 28,
   "id": "0ee1ff8e-a3a1-495d-ab43-82ecc3371789",
   "metadata": {},
   "outputs": [
    {
     "name": "stderr",
     "output_type": "stream",
     "text": [
      "C:\\Users\\TOSIN\\anaconda3\\Lib\\site-packages\\sklearn\\cluster\\_kmeans.py:1446: UserWarning: KMeans is known to have a memory leak on Windows with MKL, when there are less chunks than available threads. You can avoid it by setting the environment variable OMP_NUM_THREADS=1.\n",
      "  warnings.warn(\n"
     ]
    },
    {
     "data": {
      "image/png": "[encoded data removed]",
      "text/plain": [
       "<Figure size 640x480 with 1 Axes>"
      ]
     },
     "metadata": {},
     "output_type": "display_data"
    }
   ],
   "source": [
    "#Let's try it now with 4 clusters\n",
    "\n",
    "km = cluster.KMeans(n_clusters=4, max_iter=300, random_state=None)\n",
    "df_clustering_std['cluster'] = km.fit_predict(df_clustering_std[features_to_explore])\n",
    "\n",
    "# Principal Component Analysis for Visualization\n",
    "pca = decomposition.PCA(n_components=4, whiten=True)\n",
    "df_clustering_std['x'] = pca.fit_transform(df_clustering_std[features_to_explore])[:, 0]\n",
    "df_clustering_std['y'] = pca.fit_transform(df_clustering_std[features_to_explore])[:, 1]\n",
    "plt.scatter(df_clustering_std['x'], df_clustering_std['y'], c=df_clustering_std['cluster'])\n",
    "plt.show()"
   ]
  },
  {
   "cell_type": "markdown",
   "id": "aef74a8d-7a74-4e0b-b6b0-722accaf2c06",
   "metadata": {},
   "source": [
    "# Optimal number of clusters¶\n",
    "To find the optimal number of clusters we can user below two methods:\n",
    "\n",
    "Elbow Method\n",
    "Silhouette Coefficient"
   ]
  },
  {
   "cell_type": "markdown",
   "id": "38cc8be3-8396-4b55-a863-b2ba2a29425d",
   "metadata": {},
   "source": [
    "# Let's attempt to use the Elbow Method"
   ]
  },
  {
   "cell_type": "code",
   "execution_count": 38,
   "id": "34cb5bb9-0413-44a8-bd5c-50aba2778632",
   "metadata": {},
   "outputs": [
    {
     "name": "stderr",
     "output_type": "stream",
     "text": [
      "C:\\Users\\TOSIN\\anaconda3\\Lib\\site-packages\\sklearn\\cluster\\_kmeans.py:1446: UserWarning: KMeans is known to have a memory leak on Windows with MKL, when there are less chunks than available threads. You can avoid it by setting the environment variable OMP_NUM_THREADS=1.\n",
      "  warnings.warn(\n",
      "C:\\Users\\TOSIN\\anaconda3\\Lib\\site-packages\\sklearn\\cluster\\_kmeans.py:1446: UserWarning: KMeans is known to have a memory leak on Windows with MKL, when there are less chunks than available threads. You can avoid it by setting the environment variable OMP_NUM_THREADS=1.\n",
      "  warnings.warn(\n",
      "C:\\Users\\TOSIN\\anaconda3\\Lib\\site-packages\\sklearn\\cluster\\_kmeans.py:1446: UserWarning: KMeans is known to have a memory leak on Windows with MKL, when there are less chunks than available threads. You can avoid it by setting the environment variable OMP_NUM_THREADS=1.\n",
      "  warnings.warn(\n",
      "C:\\Users\\TOSIN\\anaconda3\\Lib\\site-packages\\sklearn\\cluster\\_kmeans.py:1446: UserWarning: KMeans is known to have a memory leak on Windows with MKL, when there are less chunks than available threads. You can avoid it by setting the environment variable OMP_NUM_THREADS=1.\n",
      "  warnings.warn(\n",
      "C:\\Users\\TOSIN\\anaconda3\\Lib\\site-packages\\sklearn\\cluster\\_kmeans.py:1446: UserWarning: KMeans is known to have a memory leak on Windows with MKL, when there are less chunks than available threads. You can avoid it by setting the environment variable OMP_NUM_THREADS=1.\n",
      "  warnings.warn(\n",
      "C:\\Users\\TOSIN\\anaconda3\\Lib\\site-packages\\sklearn\\cluster\\_kmeans.py:1446: UserWarning: KMeans is known to have a memory leak on Windows with MKL, when there are less chunks than available threads. You can avoid it by setting the environment variable OMP_NUM_THREADS=1.\n",
      "  warnings.warn(\n",
      "C:\\Users\\TOSIN\\anaconda3\\Lib\\site-packages\\sklearn\\cluster\\_kmeans.py:1446: UserWarning: KMeans is known to have a memory leak on Windows with MKL, when there are less chunks than available threads. You can avoid it by setting the environment variable OMP_NUM_THREADS=1.\n",
      "  warnings.warn(\n",
      "C:\\Users\\TOSIN\\anaconda3\\Lib\\site-packages\\sklearn\\cluster\\_kmeans.py:1446: UserWarning: KMeans is known to have a memory leak on Windows with MKL, when there are less chunks than available threads. You can avoid it by setting the environment variable OMP_NUM_THREADS=1.\n",
      "  warnings.warn(\n"
     ]
    },
    {
     "data": {
      "image/png": "[encoded data removed]",
      "text/plain": [
       "<Figure size 640x480 with 1 Axes>"
      ]
     },
     "metadata": {},
     "output_type": "display_data"
    }
   ],
   "source": [
    "from sklearn.cluster import KMeans\n",
    "\n",
    "Access_to_electricity = []\n",
    "\n",
    "# Use k from 1 to 15\n",
    "K = range(2,10)\n",
    "for k in K:\n",
    "    km = KMeans(n_clusters=k, max_iter=300, random_state=None)\n",
    "    km = km.fit(df_clustering_std[features_to_explore])\n",
    "    # Get sum of square distances by applying km.inertia_\n",
    "    Access_to_electricity.append(km.inertia_)\n",
    "\n",
    "# Plot Results\n",
    "plt.plot(K, Access_to_electricity, marker='o')\n",
    "plt.xlabel('k')\n",
    "plt.ylabel('Access_to_electricity')\n",
    "plt.title('Elbow Method For Optimal k')\n",
    "plt.show()"
   ]
  },
  {
   "cell_type": "markdown",
   "id": "73f33092-58c7-4527-b5fb-ed72002a183d",
   "metadata": {},
   "source": [
    "# Let's stick with K=4¶"
   ]
  },
  {
   "cell_type": "code",
   "execution_count": 39,
   "id": "7cd9ebf3-cb8f-4fd8-a5ba-10e57fc2580f",
   "metadata": {},
   "outputs": [
    {
     "data": {
      "image/png": "[encoded data removed]",
      "text/plain": [
       "<Figure size 640x480 with 1 Axes>"
      ]
     },
     "metadata": {},
     "output_type": "display_data"
    }
   ],
   "source": [
    "# Principal Component Analysis for Visualization\n",
    "pca = decomposition.PCA(n_components=4, whiten=True)\n",
    "#pca.fit(city_groups[features_to_explore])\n",
    "df_clustering_std['x'] = pca.fit_transform(df_clustering_std[features_to_explore])[:, 0]\n",
    "df_clustering_std['y'] = pca.fit_transform(df_clustering_std[features_to_explore])[:, 1]\n",
    "plt.scatter(df_clustering_std['x'], df_clustering_std['y'], c=df_clustering_std['cluster'])\n",
    "plt.show()"
   ]
  },
  {
   "cell_type": "markdown",
   "id": "63ae236f-1777-407e-9a3a-c05cf4417a3e",
   "metadata": {},
   "source": [
    "# Step 4: Profile and Inspect our 4 clusters"
   ]
  },
  {
   "cell_type": "code",
   "execution_count": 40,
   "id": "95b837ce-4603-4093-9f66-bc120742c87b",
   "metadata": {},
   "outputs": [
    {
     "data": {
      "text/plain": [
       "array([1, 2, 0, 3])"
      ]
     },
     "execution_count": 40,
     "metadata": {},
     "output_type": "execute_result"
    }
   ],
   "source": [
    "df_clustering_std['cluster'].unique()"
   ]
  },
  {
   "cell_type": "code",
   "execution_count": 41,
   "id": "13fc1ea4-5d07-4cc9-b1c5-fddb982813fe",
   "metadata": {},
   "outputs": [
    {
     "data": {
      "text/plain": [
       "<Axes: xlabel='cluster'>"
      ]
     },
     "execution_count": 41,
     "metadata": {},
     "output_type": "execute_result"
    },
    {
     "data": {
      "image/png": "[encoded data removed]",
      "text/plain": [
       "<Figure size 640x480 with 1 Axes>"
      ]
     },
     "metadata": {},
     "output_type": "display_data"
    }
   ],
   "source": [
    "# Plot our Cluster Counts\n",
    "df_clustering_std.groupby('cluster')['Access to electricity (% of population)'].agg('count').plot(kind='bar')"
   ]
  },
  {
   "cell_type": "markdown",
   "id": "6858c6ac-282c-42b3-88db-4eda9c8d5e3b",
   "metadata": {},
   "source": [
    "### 4.Make an Informed Decision about Number of Clusters"
   ]
  },
  {
   "cell_type": "markdown",
   "id": "65a3c3af-95fe-4105-8b29-5f4473d078d0",
   "metadata": {},
   "source": [
    "## Interpretation/Discuss of the Clusters"
   ]
  },
  {
   "cell_type": "markdown",
   "id": "8846b9fe-7665-4f11-b6ab-3ce9377b0d3b",
   "metadata": {},
   "source": [
    "### The clusters group data points with Access to electricity and similar other energy-related amenities. \n",
    " \n",
    "### Cluster 0 is the largest, indicating most data points both high and low numbers of the population have access to electricity. \n",
    "\n",
    "### Clusters 1 and 2 represent groups representing populations with very low Access to electricity and similar other energy-related amenities.\n",
    "\n",
    "### Clusters 3  groups representing populations with extremely very low Access to electricity and similar other energy-related amenities.\n",
    "\n",
    "### The clusters can be interpreted meaningfully in the context of access to electricity :\n",
    "\n",
    "#### Cluster 0 represents High access to electricity & similar other energy-related amenities\n",
    "#### Cluster 1 & 2   represents low access to electricity & similar other energy-related amenities\n",
    "#### Cluster 3 represents shallow access to electricity & similar other energy-related amenities\n",
    "  "
   ]
  },
  {
   "cell_type": "markdown",
   "id": "bddc3b0a-8b5c-4c63-99ae-b203e31ffb59",
   "metadata": {},
   "source": [
    "### Descriptive Statistics\n",
    "\n",
    "#### The mean values  Access to electricity and similar other energy-related amenities increase progressively from Cluster 0 to Cluster 2, highlighting the gradient of the cluster across different clusters.\n",
    "\n"
   ]
  },
  {
   "cell_type": "code",
   "execution_count": null,
   "id": "dd6424b5-1e55-4a1c-9f6f-f75b66142caa",
   "metadata": {},
   "outputs": [],
   "source": []
  },
  {
   "cell_type": "code",
   "execution_count": null,
   "id": "e96f26ad-c87d-42c9-9e55-8bd6ffe4d51c",
   "metadata": {},
   "outputs": [],
   "source": []
  },
  {
   "cell_type": "code",
   "execution_count": null,
   "id": "0267e21d-f733-43c5-88a6-a9dc4708a68d",
   "metadata": {},
   "outputs": [],
   "source": []
  },
  {
   "cell_type": "code",
   "execution_count": null,
   "id": "862fd0c5-152c-4f21-9f9b-48efa30f732f",
   "metadata": {},
   "outputs": [],
   "source": []
  },
  {
   "cell_type": "code",
   "execution_count": null,
   "id": "b3dd40d1-71c9-4cd7-b1b3-4338196e906c",
   "metadata": {},
   "outputs": [],
   "source": []
  },
  {
   "cell_type": "code",
   "execution_count": null,
   "id": "0ae27666-50c5-4fcc-b839-05e6ba24d515",
   "metadata": {},
   "outputs": [],
   "source": []
  },
  {
   "cell_type": "code",
   "execution_count": null,
   "id": "7b6a8a64-32b5-4107-97e8-57475af5972a",
   "metadata": {},
   "outputs": [],
   "source": []
  },
  {
   "cell_type": "code",
   "execution_count": null,
   "id": "05e7ccca-67ae-4347-a49e-49e9ec96cc7a",
   "metadata": {},
   "outputs": [],
   "source": []
  }
 ],
 "metadata": {
  "kernelspec": {
   "display_name": "Python 3 (ipykernel)",
   "language": "python",
   "name": "python3"
  },
  "language_info": {
   "codemirror_mode": {
    "name": "ipython",
    "version": 3
   },
   "file_extension": ".py",
   "mimetype": "text/x-python",
   "name": "python",
   "nbconvert_exporter": "python",
   "pygments_lexer": "ipython3",
   "version": "3.11.7"
  }
 },
 "nbformat": 4,
 "nbformat_minor": 5
}
